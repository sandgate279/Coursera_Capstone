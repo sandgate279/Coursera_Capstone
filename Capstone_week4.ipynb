{
    "cells": [
        {
            "cell_type": "markdown",
            "metadata": {
                "collapsed": true
            },
            "source": "####    Introduction/Business Problem"
        },
        {
            "cell_type": "code",
            "execution_count": null,
            "metadata": {},
            "outputs": [],
            "source": "An enthusiast wants to open an Indian Restaurant within 5 kms from New York CBD. \nBeing a new entrepreneur in this domain , he/she wants a visualization map of Indian restaurant 's locations within this area.\nAnd he wants a suggestive location  to establish the business,where there are non or few Indian restaurant's located."
        },
        {
            "cell_type": "markdown",
            "metadata": {},
            "source": "####    Data section "
        },
        {
            "cell_type": "code",
            "execution_count": null,
            "metadata": {},
            "outputs": [],
            "source": "Data Used: The latitude and longitude of New York city  is used to make a call to the 4 square API  with search query  as Indian restaurant and within a radius of 5 Km's.\nFor example: The search query for New York city for Indian restaurant's within a radius of 5 Kms from CBD with a search  limit of 5000 restaurants will be:\n'https://api.foursquare.com/v2/venues/search?client_id={}&client_secret={}&ll={},{}&v={}&query={}&radius={}&limit={}'.format(CLIENT_ID, CLIENT_SECRET, latitude, longitude, VERSION, search_query, radius, LIMIT)\n"
        },
        {
            "cell_type": "code",
            "execution_count": null,
            "metadata": {},
            "outputs": [],
            "source": ""
        }
    ],
    "metadata": {
        "kernelspec": {
            "display_name": "Python 3.6",
            "language": "python",
            "name": "python3"
        },
        "language_info": {
            "codemirror_mode": {
                "name": "ipython",
                "version": 3
            },
            "file_extension": ".py",
            "mimetype": "text/x-python",
            "name": "python",
            "nbconvert_exporter": "python",
            "pygments_lexer": "ipython3",
            "version": "3.6.9"
        }
    },
    "nbformat": 4,
    "nbformat_minor": 1
}